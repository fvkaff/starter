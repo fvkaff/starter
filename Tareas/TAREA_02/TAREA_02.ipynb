{
  "cells": [
    {
      "cell_type": "code",
      "execution_count": null,
      "metadata": {
        "colab": {
          "base_uri": "https://localhost:8080/"
        },
        "id": "vJQzXj1GWcyv",
        "outputId": "afb348e9-d9fe-4d09-cab1-d8560e75143b"
      },
      "outputs": [
        {
          "name": "stdout",
          "output_type": "stream",
          "text": [
            "hola mundo\n",
            "hola mundo\n"
          ]
        }
      ],
      "source": [
        "print ('hola mundo')\n",
        "azul = 'hola mundo'\n",
        "print(azul)"
      ]
    },
    {
      "cell_type": "code",
      "execution_count": 8,
      "metadata": {
        "colab": {
          "base_uri": "https://localhost:8080/"
        },
        "id": "16VVzq0FWesV",
        "outputId": "e7115e72-c6aa-405a-a492-4d2c15364eb1"
      },
      "outputs": [
        {
          "name": "stdout",
          "output_type": "stream",
          "text": [
            "gato | 10\n"
          ]
        }
      ],
      "source": [
        "numero = 100 #int -> integer, entero\n",
        "numero_no_entero = 6.5 # float\n",
        "string = \"hola\" # str -> texto\n",
        "valor_verdad = True # verdadero\n",
        "valor_falso = False # falso - Boolean, bool\n",
        "lista = [10,5, \"hola\"]\n",
        "\n",
        "diccionario = {\"clave\": 10,\"clave_2\":'gato'}\n",
        "\n",
        "print(str(diccionario[\"clave_2\"]) + \" | \" + str(diccionario[\"clave\"]))\n"
      ]
    },
    {
      "cell_type": "code",
      "execution_count": null,
      "metadata": {
        "id": "abW5Hj26WezB"
      },
      "outputs": [],
      "source": []
    },
    {
      "cell_type": "code",
      "execution_count": null,
      "metadata": {
        "colab": {
          "base_uri": "https://localhost:8080/"
        },
        "id": "ZAmrkuCRRh-m",
        "outputId": "29f7aa84-7f2b-47ae-ca8d-0475f869f1c5"
      },
      "outputs": [
        {
          "name": "stdout",
          "output_type": "stream",
          "text": [
            "a es menor que b\n"
          ]
        }
      ],
      "source": [
        "a = 1\n",
        "b = 2\n",
        "if a != b:\n",
        "  print('a es mayor o igual que b' )\n",
        "elif a < b:\n",
        "  print ('a es menor que b')\n",
        "else:\n",
        "  print( 'a es igual a b')\n",
        "\n"
      ]
    },
    {
      "cell_type": "code",
      "execution_count": null,
      "metadata": {
        "colab": {
          "base_uri": "https://localhost:8080/"
        },
        "id": "5Mon49DQahvA",
        "outputId": "8600c40c-a261-4526-c4cc-99b191caaca9"
      },
      "outputs": [
        {
          "name": "stdout",
          "output_type": "stream",
          "text": [
            "Hola, soy 0\n",
            "Hola, soy 1\n",
            "Hola, soy 2\n",
            "Hola, soy 3\n",
            "Hola, soy 4\n",
            "Hola, soy 5\n",
            "Hola, soy 6\n",
            "Hola, soy 7\n",
            "Hola, soy 8\n",
            "Hola, soy 9\n"
          ]
        }
      ],
      "source": [
        "# Loops / ciclos\n",
        "for i in range(10): # [0, 1, 2, 3, 4, 5, 6, 7, 8, 9]\n",
        "  print(\"Hola, soy \" + str(i))\n",
        "\n",
        "\n",
        "\n"
      ]
    },
    {
      "cell_type": "code",
      "execution_count": null,
      "metadata": {
        "colab": {
          "base_uri": "https://localhost:8080/"
        },
        "id": "dUVQOuLact52",
        "outputId": "e41842fb-7dc0-417a-b2ce-72d2bd452094"
      },
      "outputs": [
        {
          "name": "stdout",
          "output_type": "stream",
          "text": [
            "soy gato chico\n",
            "soy gato chico\n",
            "soy gato chico\n",
            "gato no soy tan chico\n",
            "soy gato chico\n",
            "soy gato chico\n"
          ]
        }
      ],
      "source": [
        "gato = 0\n",
        "\n",
        "while(gato < 10 ):\n",
        "  print('soy gato chico')\n",
        "  gato = gato + 1\n",
        "\n",
        "  if(gato==5):\n",
        "    break\n",
        "  if (gato==3):\n",
        "    print('gato no soy tan chico')\n"
      ]
    },
    {
      "cell_type": "code",
      "execution_count": 5,
      "metadata": {
        "colab": {
          "base_uri": "https://localhost:8080/"
        },
        "id": "ZtbST45Xf0oD",
        "outputId": "6a052151-96a4-4fa5-d83c-0a0d7d3ffa95"
      },
      "outputs": [
        {
          "name": "stdout",
          "output_type": "stream",
          "text": [
            "Ingresa la n15\n",
            "Ingresa la n24\n",
            "Ingresa la n37\n",
            "5.5\n",
            "APROBASTE!\n"
          ]
        }
      ],
      "source": [
        "# Calcular la nota final de un estudiante teniendo en cuenta que:\n",
        "# la primera nota vale 30% de la nota final\n",
        "# la segunda vale 30% de la nota final\n",
        "# y el trabajo final vale 40% de la nota\n",
        "\n",
        "nota_1 = float(input(\"Ingresa la n1\"))\n",
        "nota_2 = float(input(\"Ingresa la n2\"))\n",
        "nota_3 = float(input(\"Ingresa la n3\"))\n",
        "ponderación = nota_1 * 0.3 + nota_2 * 0.3 + nota_3 * 0.4\n",
        "print(ponderación)\n",
        "\n",
        "if(ponderación>=4):\n",
        "  print(\"APROBASTE!\")\n",
        "elif(ponderación<4):\n",
        "  print(\"REPROBASTE\")\n",
        "else:\n",
        "  print(\"ERROR\")\n",
        "\n",
        "\n",
        "\n"
      ]
    },
    {
      "cell_type": "markdown",
      "metadata": {
        "id": "dVU-BwPnk9K-"
      },
      "source": [
        "HACER UN PROGRAMA QUE IMPRIMA LOS NÚMEROS DE 1 AL 100, EN PYHTON"
      ]
    },
    {
      "cell_type": "code",
      "execution_count": null,
      "metadata": {
        "colab": {
          "base_uri": "https://localhost:8080/"
        },
        "id": "G6J_48O5kI-f",
        "outputId": "931d2c26-76e1-4d9c-9c68-7c720974a7de"
      },
      "outputs": [
        {
          "name": "stdout",
          "output_type": "stream",
          "text": [
            "1\n",
            "2\n",
            "3\n",
            "4\n",
            "5\n",
            "6\n",
            "7\n",
            "8\n",
            "9\n",
            "10\n",
            "11\n",
            "12\n",
            "13\n",
            "14\n",
            "15\n",
            "16\n",
            "17\n",
            "18\n",
            "19\n",
            "20\n",
            "21\n",
            "22\n",
            "23\n",
            "24\n",
            "25\n",
            "26\n",
            "27\n",
            "28\n",
            "29\n",
            "30\n",
            "31\n",
            "32\n",
            "33\n",
            "34\n",
            "35\n",
            "36\n",
            "37\n",
            "38\n",
            "39\n",
            "40\n",
            "41\n",
            "42\n",
            "43\n",
            "44\n",
            "45\n",
            "46\n",
            "47\n",
            "48\n",
            "49\n",
            "50\n",
            "51\n",
            "52\n",
            "53\n",
            "54\n",
            "55\n",
            "56\n",
            "57\n",
            "58\n",
            "59\n",
            "60\n",
            "61\n",
            "62\n",
            "63\n",
            "64\n",
            "65\n",
            "66\n",
            "67\n",
            "68\n",
            "69\n",
            "70\n",
            "71\n",
            "72\n",
            "73\n",
            "74\n",
            "75\n",
            "76\n",
            "77\n",
            "78\n",
            "79\n",
            "80\n",
            "81\n",
            "82\n",
            "83\n",
            "84\n",
            "85\n",
            "86\n",
            "87\n",
            "88\n",
            "89\n",
            "90\n",
            "91\n",
            "92\n",
            "93\n",
            "94\n",
            "95\n",
            "96\n",
            "97\n",
            "98\n",
            "99\n",
            "100\n"
          ]
        }
      ],
      "source": [
        "\n",
        "\n",
        "for x in range(100):\n",
        "  print(x+1)\n",
        "\n",
        "\n"
      ]
    },
    {
      "cell_type": "markdown",
      "metadata": {
        "id": "GeiIIegKmi7X"
      },
      "source": [
        "HACER UN PROGRAMA QUE IMPRIMA LOS NÚMEROS DEL 1 AL 100 QUE SEAN DIVISIBLES ENTRE 3"
      ]
    },
    {
      "cell_type": "code",
      "execution_count": null,
      "metadata": {
        "id": "1sg5RGtSlG00"
      },
      "outputs": [],
      "source": [
        "for x in range(100):\n",
        "\n",
        "if(x+1) % 3 == 0:\n",
        "  print(x+1)\n",
        "\n"
      ]
    },
    {
      "cell_type": "markdown",
      "metadata": {
        "id": "QPgnJQT9muaU"
      },
      "source": [
        "PSEUDOCÓDIGO, SUMADOR Y COMPARADOR DE DOS NÚMEROS"
      ]
    },
    {
      "cell_type": "code",
      "execution_count": null,
      "metadata": {
        "colab": {
          "base_uri": "https://localhost:8080/"
        },
        "id": "RF5fbnQGmsXW",
        "outputId": "9e25ee6c-d01f-4136-c849-d7a49fa8fe36"
      },
      "outputs": [
        {
          "name": "stdout",
          "output_type": "stream",
          "text": [
            "Ingresa un número100\n",
            "mayor a 100\n"
          ]
        }
      ],
      "source": [
        "numero_1 = int(input(\"Ingresa un número\"))\n",
        "numero_2 = 5\n",
        "suma = numero_1 + numero_2\n",
        "resultado = \"\"\n",
        "if(suma<100):\n",
        "  resultado = \"menor a 100\"\n",
        "elif(suma>=100 and suma<150):\n",
        "  resultado = \"mayor a 100\"\n",
        "elif(suma>=150):\n",
        "  resultado = \"mayor a 150\"\n",
        "\n",
        "print(resultado)"
      ]
    },
    {
      "cell_type": "code",
      "execution_count": 4,
      "metadata": {
        "colab": {
          "base_uri": "https://localhost:8080/"
        },
        "id": "xy-YdBbjAttF",
        "outputId": "42766dce-af48-4765-d5d6-a0e6ad301351"
      },
      "outputs": [
        {
          "name": "stdout",
          "output_type": "stream",
          "text": [
            "indica20\n",
            "¿te gusta programar?(si o no)si\n",
            "eres mayor de edad y te gutsa programar\n"
          ]
        }
      ],
      "source": [
        "edad = int(input(\"indica\"))\n",
        "programar = input(\"¿te gusta programar?(si o no)\")\n",
        "if int(edad>18 and programar == \"si\"):\n",
        "  print(\"eres mayor de edad y te gutsa programar\")\n",
        "\n",
        "if int(edad>18 and programar == \"no\"):\n",
        "  print(\"eres mayor de edad y no te gusta programar\")\n",
        "\n",
        "if int(edad<18 and programar == \"si\"):\n",
        "  print(\"eres menor de edad y te gusta programar\")\n",
        "\n",
        "if int(edad<18 and programar == \"no\"):\n",
        "  print(\"eres menor de edad y no te gusta programar\")\n",
        "\n",
        "\n"
      ]
    }
  ],
  "metadata": {
    "colab": {
      "provenance": []
    },
    "kernelspec": {
      "display_name": "Python 3",
      "name": "python3"
    },
    "language_info": {
      "name": "python"
    }
  },
  "nbformat": 4,
  "nbformat_minor": 0
}
